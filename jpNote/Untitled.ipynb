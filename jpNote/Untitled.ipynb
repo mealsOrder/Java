{
 "cells": [
  {
   "cell_type": "code",
   "execution_count": null,
   "id": "76021190-8262-4c88-b6d9-92c37298c0d5",
   "metadata": {},
   "outputs": [],
   "source": [
    "sadf"
   ]
  }
 ],
 "metadata": {
  "kernelspec": {
   "display_name": "Java",
   "language": "java",
   "name": "java"
  },
  "language_info": {
   "codemirror_mode": "java",
   "file_extension": ".jshell",
   "mimetype": "text/x-java-source",
   "name": "Java",
   "pygments_lexer": "java",
   "version": "17.0.11+9"
  }
 },
 "nbformat": 4,
 "nbformat_minor": 5
}
