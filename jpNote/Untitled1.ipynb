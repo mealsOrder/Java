{
 "cells": [
  {
   "cell_type": "code",
   "execution_count": 1,
   "id": "6791593e-3b15-4069-be5c-e13d6885bf4b",
   "metadata": {},
   "outputs": [
    {
     "name": "stdout",
     "output_type": "stream",
     "text": [
      "Hello World!\n"
     ]
    }
   ],
   "source": [
    "System.out.println(\"Hello World!\");"
   ]
  },
  {
   "cell_type": "markdown",
   "id": "adfcb746-690b-4356-a42f-03592c8b17e1",
   "metadata": {},
   "source": [
    "# 마크다운 문법\n",
    "\n",
    "- # 제일 큰 글자\n",
    "- ## 두번째 큰 글자\n",
    "- ### 세번째 큰 글자\n",
    "\n",
    "줄 바꿈을 하고 싶을때는 스페이스 2개 사용한다.  \n",
    "가나다라마바사  \n",
    "오호잇  "
   ]
  },
  {
   "cell_type": "code",
   "execution_count": null,
   "id": "7fb766dc-f9e8-4353-99ac-c08c18038cff",
   "metadata": {},
   "outputs": [],
   "source": []
  }
 ],
 "metadata": {
  "kernelspec": {
   "display_name": "Java",
   "language": "java",
   "name": "java"
  },
  "language_info": {
   "codemirror_mode": "java",
   "file_extension": ".jshell",
   "mimetype": "text/x-java-source",
   "name": "Java",
   "pygments_lexer": "java",
   "version": "17.0.11+9"
  }
 },
 "nbformat": 4,
 "nbformat_minor": 5
}
