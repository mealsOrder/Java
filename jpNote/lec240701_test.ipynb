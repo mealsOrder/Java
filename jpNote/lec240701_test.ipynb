{
 "cells": [
  {
   "cell_type": "code",
   "execution_count": 1,
   "id": "6791593e-3b15-4069-be5c-e13d6885bf4b",
   "metadata": {},
   "outputs": [
    {
     "name": "stdout",
     "output_type": "stream",
     "text": [
      "Hello World!\n"
     ]
    }
   ],
   "source": [
    "System.out.println(\"Hello World!\");"
   ]
  },
  {
   "cell_type": "markdown",
   "id": "adfcb746-690b-4356-a42f-03592c8b17e1",
   "metadata": {},
   "source": [
    "# 마크다운 문법\n",
    "\n",
    "- #제일 큰 글자\n",
    "- ##두번째 큰 글자\n",
    "- ###세번째 큰 글자\n",
    "\n",
    " -점하나  \n",
    "\n",
    "줄 바꿈을 하고 싶을때는 문장 끝에 스페이스 2개 사용한다.  \n",
    "가나다라마바사  \n",
    "오호잇  "
   ]
  },
  {
   "cell_type": "markdown",
   "id": "a564327f-4421-4add-863a-355d743897c0",
   "metadata": {},
   "source": [
    "# 주석 관련 코드  "
   ]
  },
  {
   "cell_type": "code",
   "execution_count": null,
   "id": "7fb766dc-f9e8-4353-99ac-c08c18038cff",
   "metadata": {},
   "outputs": [],
   "source": [
    "/**\n",
    " * 이 주석은 API 문서를 생성하기 위한 주석입니다.\n",
    " * @author mealsOrder\n",
    " * @version 1.0\n",
    " * @since 2024.07.01\n",
    " */\n",
    "public class CommentExample {\n",
    "    /**\n",
    "     * 프로그램의 시작지점입니다.\n",
    "     * @param args 명령행 인자\n",
    "     */\n",
    "    public static void main(String[] args) {\n",
    "        System.out.println(\"Hello World!!\"); // 한줄 주석입니다.\n",
    "        /*\n",
    "         * 여러 줄 주석입니다.\n",
    "         * 메서드 안에서 API 문서와 상관없는\n",
    "         * 여러 줄 주석을 입력할 때 사용합니다.\n",
    "         */\n",
    "        System.out.println(\"주석을 테스트 합니다.\");\n",
    "    }\n",
    "}\n"
   ]
  },
  {
   "cell_type": "markdown",
   "id": "d07ed9a2-01fe-4f0a-b6f3-9439498c2672",
   "metadata": {},
   "source": [
    "# 변수  "
   ]
  },
  {
   "cell_type": "markdown",
   "id": "eab98b97-5cd7-4579-b1bd-2520238bd0e9",
   "metadata": {},
   "source": [
    "- 손정민의 국어 영어 수학의 점수를 합산하고 평균을 구하시오  \n",
    "    // 손정현의 국어 78  \n",
    "    // 손정현의 영어 : 60  \n",
    "    // 손정현의 수학 : 50  "
   ]
  },
  {
   "cell_type": "code",
   "execution_count": 22,
   "id": "8b92d2c2-6f16-4a5a-8cce-d11d8eb251df",
   "metadata": {},
   "outputs": [
    {
     "name": "stdout",
     "output_type": "stream",
     "text": [
      "합 : 180\n",
      "평균: 60.0\n"
     ]
    }
   ],
   "source": [
    "/**\n",
    " *  세수를 합하고 평균을 구하는 코드\n",
    " */\n",
    "\n",
    "int kor = 70;\n",
    "int eng = 60;\n",
    "int mat = 50;\n",
    "int sum = kor+eng+mat;\n",
    "double avg = (double)sum/3;\n",
    "\n",
    "System.out.println(\"합 : \" + sum);\n",
    "System.out.println(\"평균: \"+ avg);\n"
   ]
  },
  {
   "cell_type": "markdown",
   "id": "99919f46-5b84-4155-90de-c01699a96059",
   "metadata": {},
   "source": [
    "# 식별자 규칙  \n",
    "- 대문자와 소문자를 구분하고, 길이 제한이 없음    \n",
    "- 문자와 숫자 밑줄 달러기호를 포함할 수 있음  \n",
    "- 한글 사용이 가능하지만 되도록 영문자를 사용하는 것이 좋다  \n",
    "- 숫자로는 시작할 수 없음  \n",
    "- 첫 문자 외에는 문자 숫자 밑줄(- _) 달러기호 등을 임의의 순서로 사용 할 수 있음  \n",
    "- 공백을 포함 할수 없다\n",
    "- 예약어 키워드는 사용 할 수 없다."
   ]
  },
  {
   "cell_type": "markdown",
   "id": "79b41778-b5c4-4f7c-ba2c-6abf3340d074",
   "metadata": {},
   "source": [
    "# 학생 a,b,c의 국영수 점수  \n",
    "a :70 60 50  \n",
    "b :90 80 70  \n",
    "c :95 90 90  \n",
    "총점을 출력하시오  \n",
    "평균을 출력하시오  "
   ]
  },
  {
   "cell_type": "code",
   "execution_count": 2,
   "id": "00b405b8-9eb4-472b-b59d-b49e05e1bd5a",
   "metadata": {},
   "outputs": [
    {
     "name": "stdout",
     "output_type": "stream",
     "text": [
      "695\n",
      "77\n"
     ]
    }
   ],
   "source": [
    "System.out.println(70+60+50+90+80+70+95+90+90);\n",
    "System.out.println((70+60+50+90+80+70+95+90+90)/9);"
   ]
  },
  {
   "cell_type": "code",
   "execution_count": 3,
   "id": "6eacf3f0-855a-403a-b432-72dbf1b62568",
   "metadata": {},
   "outputs": [
    {
     "name": "stdout",
     "output_type": "stream",
     "text": [
      "x:3\n",
      "y:8\n"
     ]
    }
   ],
   "source": [
    "int x =3;\n",
    "int y = ++x + x--;\n",
    "System.out.println(\"x:\" +x); // 3\n",
    "System.out.println(\"y:\" +y); // 8"
   ]
  },
  {
   "cell_type": "code",
   "execution_count": 4,
   "id": "88b8a92a-52a4-41da-93d9-b059e63c615c",
   "metadata": {},
   "outputs": [
    {
     "name": "stdout",
     "output_type": "stream",
     "text": [
      "x:1\n",
      "y:-3\n"
     ]
    }
   ],
   "source": [
    "x =3;\n",
    "y = -x + - --x + x--;\n",
    "System.out.println(\"x:\" +x); // \n",
    "System.out.println(\"y:\" +y); // "
   ]
  },
  {
   "cell_type": "markdown",
   "id": "cceb40e2-0687-4a01-85cf-ca3ce103ad4c",
   "metadata": {},
   "source": [
    "# 비트 반전과 논리 반전 연산자  \n",
    "- ~ (비트의 반전) 0 >> 1, 1 >> 0 으로 반전  \n",
    "- ! (논리의 반전) true >> false, false >> true  "
   ]
  },
  {
   "cell_type": "code",
   "execution_count": 5,
   "id": "f0f7f3d4-2c16-42b0-bad1-e8ac1aea3fd6",
   "metadata": {},
   "outputs": [
    {
     "name": "stdout",
     "output_type": "stream",
     "text": [
      "8\n",
      "-9\n"
     ]
    }
   ],
   "source": [
    "byte binData1 = 0b000_1000; // 10 진수 8\n",
    "System.out.println(binData1); //\n",
    "System.out.println(~binData1);"
   ]
  },
  {
   "cell_type": "code",
   "execution_count": 6,
   "id": "b2d94e2a-3044-4749-99a9-73a52f8441d7",
   "metadata": {},
   "outputs": [
    {
     "name": "stdout",
     "output_type": "stream",
     "text": [
      "9\n"
     ]
    }
   ],
   "source": [
    "// 두자리의 정수를 입력 받아서 각 자리수의 합을 구하는 프로그램\n",
    "int n = 45;\n",
    "System.out.println(n/10 + n%10); "
   ]
  },
  {
   "cell_type": "code",
   "execution_count": null,
   "id": "cb6bceaf-c9a3-46eb-afc6-52fe294aed39",
   "metadata": {},
   "outputs": [],
   "source": []
  }
 ],
 "metadata": {
  "kernelspec": {
   "display_name": "Java",
   "language": "java",
   "name": "java"
  },
  "language_info": {
   "codemirror_mode": "java",
   "file_extension": ".jshell",
   "mimetype": "text/x-java-source",
   "name": "Java",
   "pygments_lexer": "java",
   "version": "17.0.11+9"
  }
 },
 "nbformat": 4,
 "nbformat_minor": 5
}
